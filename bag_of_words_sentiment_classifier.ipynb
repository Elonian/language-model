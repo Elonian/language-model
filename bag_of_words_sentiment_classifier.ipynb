{
 "cells": [
  {
   "cell_type": "markdown",
   "metadata": {},
   "source": [
    "## Bag of words sentiment classifier"
   ]
  },
  {
   "cell_type": "code",
   "execution_count": 1,
   "metadata": {},
   "outputs": [],
   "source": [
    "# Importing the libraries\n",
    "\n",
    "import numpy as np\n",
    "from collections import defaultdict\n",
    "import random"
   ]
  },
  {
   "cell_type": "markdown",
   "metadata": {},
   "source": [
    "### Extracting the Data\n",
    "\n",
    "using (data/sst-sentiment-text-threeclass)"
   ]
  },
  {
   "cell_type": "code",
   "execution_count": 2,
   "metadata": {},
   "outputs": [],
   "source": [
    "def extract_data(dirc: str) -> tuple[list[str], list[int]]:\n",
    "    input_X = []\n",
    "    output_y = []\n",
    "    with open(dirc, 'r') as file:\n",
    "        for line in file:\n",
    "            label, data = line.strip().split('|||')\n",
    "            input_X.append(data)\n",
    "            output_y.append(int(label))\n",
    "    return input_X, output_y\n",
    "\n",
    "X_train, Y_train = extract_data(\"/Users/varunmoparthi/Desktop/language-model/data/sst-sentiment-text-threeclass/train.txt\")\n",
    "X_test, Y_test = extract_data(\"/Users/varunmoparthi/Desktop/language-model/data/sst-sentiment-text-threeclass/test.txt\")"
   ]
  }
 ],
 "metadata": {
  "kernelspec": {
   "display_name": "Python 3 (ipykernel)",
   "language": "python",
   "name": "python3"
  },
  "language_info": {
   "codemirror_mode": {
    "name": "ipython",
    "version": 3
   },
   "file_extension": ".py",
   "mimetype": "text/x-python",
   "name": "python",
   "nbconvert_exporter": "python",
   "pygments_lexer": "ipython3",
   "version": "3.11.10"
  }
 },
 "nbformat": 4,
 "nbformat_minor": 2
}
