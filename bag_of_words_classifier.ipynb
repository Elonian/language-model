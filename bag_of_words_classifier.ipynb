{
 "cells": [
  {
   "cell_type": "code",
   "execution_count": 203,
   "metadata": {},
   "outputs": [],
   "source": [
    "## Bag of words classifier"
   ]
  },
  {
   "cell_type": "code",
   "execution_count": 204,
   "metadata": {},
   "outputs": [],
   "source": [
    "## Importing Libraries\n",
    "\n",
    "import numpy as np\n",
    "import random\n",
    "import tqdm\n",
    "from collections import defaultdict\n"
   ]
  },
  {
   "cell_type": "code",
   "execution_count": 205,
   "metadata": {},
   "outputs": [],
   "source": [
    "def extractIO(datafile: str):\n",
    "    I = []\n",
    "    O = []\n",
    "    with open(datafile, 'r') as file:\n",
    "        for line in file:\n",
    "            y, x = line.strip().split('|||')\n",
    "            I.append(x)\n",
    "            O.append(int(y))\n",
    "    return I, O"
   ]
  },
  {
   "cell_type": "code",
   "execution_count": 206,
   "metadata": {},
   "outputs": [],
   "source": [
    "x_train, y_train = extractIO('/Users/varunmoparthi/Desktop/nlp/data/sst-sentiment-text-threeclass/train.txt')\n",
    "x_test, y_test = extractIO('/Users/varunmoparthi/Desktop/nlp/data/sst-sentiment-text-threeclass/test.txt')"
   ]
  },
  {
   "cell_type": "code",
   "execution_count": 207,
   "metadata": {},
   "outputs": [],
   "source": [
    "## Step-1 Feature Extraction\n",
    "\n",
    "def feature_extraction(x):\n",
    "    feature = defaultdict(int)\n",
    "    for i in x:\n",
    "        feature[i] += 1.0\n",
    "    return feature"
   ]
  },
  {
   "cell_type": "code",
   "execution_count": 208,
   "metadata": {},
   "outputs": [],
   "source": [
    "## Feature weights intialised\n",
    "feat_weights = defaultdict(int)"
   ]
  },
  {
   "cell_type": "code",
   "execution_count": 209,
   "metadata": {},
   "outputs": [],
   "source": [
    "## Step-2 Score calculation\n",
    "\n",
    "def score_calculation(feature, feat_weights):\n",
    "    score = 0.0\n",
    "    for name, count in feature.items():\n",
    "        score += feature[name] * feat_weights[name]\n",
    "    return score"
   ]
  },
  {
   "cell_type": "code",
   "execution_count": 210,
   "metadata": {},
   "outputs": [],
   "source": [
    "## Step-3 Decision function\n",
    "\n",
    "def decision_function(feature, feat_weights):\n",
    "    score = score_calculation(feature, feat_weights)\n",
    "    if score > 0:\n",
    "        return 1\n",
    "    if score < 0:\n",
    "        return -1\n",
    "    return 0"
   ]
  },
  {
   "cell_type": "code",
   "execution_count": 211,
   "metadata": {},
   "outputs": [],
   "source": [
    "## Prediction\n",
    "\n",
    "def prediction(x, feat_weights):\n",
    "    feature = feature_extraction(x)\n",
    "    return decision_function(feature, feat_weights), feature"
   ]
  },
  {
   "cell_type": "code",
   "execution_count": 212,
   "metadata": {},
   "outputs": [],
   "source": [
    "## Accuracy\n",
    "\n",
    "def accuracy(y, y_pred):\n",
    "    correct_pred = 0\n",
    "    for i,j in zip(y, y_pred):\n",
    "        if i == j:\n",
    "            correct_pred += 1\n",
    "    return correct_pred/len(y) "
   ]
  },
  {
   "cell_type": "code",
   "execution_count": 213,
   "metadata": {},
   "outputs": [],
   "source": [
    "def learning_algorthim(epochs, x, y, feat_weights):\n",
    "    for i in range(epochs):\n",
    "        y_pred_total = []\n",
    "        for j in range(len(x)):\n",
    "            y_pred, feature = prediction(x[j], feat_weights)\n",
    "            y_pred_total.append(y_pred)\n",
    "            if(y_pred != y[j]):\n",
    "                for feat, value in feature.items():\n",
    "                    feat_weights[feat] = feat_weights[feat] + y[j] * feature[feat]\n",
    "        print(f\"Epoch: {i} and Accuracy: {accuracy(y, y_pred_total)}\")\n"
   ]
  },
  {
   "cell_type": "code",
   "execution_count": 214,
   "metadata": {},
   "outputs": [
    {
     "name": "stdout",
     "output_type": "stream",
     "text": [
      "Epoch: 0 and Accuracy: 0.7024812734082397\n",
      "Epoch: 1 and Accuracy: 0.7017790262172284\n",
      "Epoch: 2 and Accuracy: 0.7029494382022472\n",
      "Epoch: 3 and Accuracy: 0.7033005617977528\n",
      "Epoch: 4 and Accuracy: 0.7037687265917603\n"
     ]
    }
   ],
   "source": [
    "learning_algorthim(5, x_train, y_train, feat_weights)"
   ]
  },
  {
   "cell_type": "code",
   "execution_count": 215,
   "metadata": {},
   "outputs": [],
   "source": [
    "y_test_pred = []\n",
    "for x in x_test:\n",
    "    pred, feat = prediction(x, feat_weights)\n",
    "    y_test_pred.append(pred)"
   ]
  },
  {
   "cell_type": "code",
   "execution_count": 216,
   "metadata": {},
   "outputs": [
    {
     "data": {
      "text/plain": [
       "defaultdict(int, {-1: 2210})"
      ]
     },
     "execution_count": 216,
     "metadata": {},
     "output_type": "execute_result"
    }
   ],
   "source": [
    "labels_test_pred = defaultdict(int)\n",
    "for i in y_test_pred:\n",
    "    labels_test_pred[i] += 1\n",
    "labels_test_pred"
   ]
  },
  {
   "cell_type": "code",
   "execution_count": 217,
   "metadata": {},
   "outputs": [
    {
     "data": {
      "text/plain": [
       "(2210, 2210)"
      ]
     },
     "execution_count": 217,
     "metadata": {},
     "output_type": "execute_result"
    }
   ],
   "source": [
    "len(y_test_pred), len(y_test)"
   ]
  },
  {
   "cell_type": "code",
   "execution_count": 218,
   "metadata": {},
   "outputs": [
    {
     "name": "stdout",
     "output_type": "stream",
     "text": [
      "Test set Accuracy: 0.41266968325791853\n"
     ]
    }
   ],
   "source": [
    "print(f\"Test set Accuracy: {accuracy(y_test, y_test_pred)}\")"
   ]
  }
 ],
 "metadata": {
  "kernelspec": {
   "display_name": "Python 3 (ipykernel)",
   "language": "python",
   "name": "python3"
  },
  "language_info": {
   "codemirror_mode": {
    "name": "ipython",
    "version": 3
   },
   "file_extension": ".py",
   "mimetype": "text/x-python",
   "name": "python",
   "nbconvert_exporter": "python",
   "pygments_lexer": "ipython3",
   "version": "3.11.10"
  }
 },
 "nbformat": 4,
 "nbformat_minor": 2
}
